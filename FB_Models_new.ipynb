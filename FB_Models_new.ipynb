{
 "cells": [
  {
   "cell_type": "markdown",
   "metadata": {
    "colab_type": "text",
    "id": "naWvqMEMHglO"
   },
   "source": [
    "<p style=\"font-size:32px;text-align:center\"> <b>Social network Graph Link Prediction - Facebook Challenge</b> </p>"
   ]
  },
  {
   "cell_type": "code",
   "execution_count": 4,
   "metadata": {
    "colab": {},
    "colab_type": "code",
    "id": "9wb9N5RzHglP"
   },
   "outputs": [],
   "source": [
    "#Importing Libraries\n",
    "# please do go through this python notebook: \n",
    "import warnings\n",
    "warnings.filterwarnings(\"ignore\")\n",
    "\n",
    "import csv\n",
    "import pandas as pd#pandas to create small dataframes \n",
    "import datetime #Convert to unix time\n",
    "import time #Convert to unix time\n",
    "# if numpy is not installed already : pip3 install numpy\n",
    "import numpy as np#Do aritmetic operations on arrays\n",
    "# matplotlib: used to plot graphs\n",
    "import matplotlib\n",
    "import matplotlib.pylab as plt\n",
    "import seaborn as sns#Plots\n",
    "from matplotlib import rcParams#Size of plots  \n",
    "from sklearn.cluster import MiniBatchKMeans, KMeans#Clustering\n",
    "import math\n",
    "import pickle\n",
    "import os\n",
    "# to install xgboost: pip3 install xgboost\n",
    "import xgboost as xgb\n",
    "\n",
    "import warnings\n",
    "import networkx as nx\n",
    "import pdb\n",
    "import pickle\n",
    "from pandas import HDFStore,DataFrame\n",
    "from pandas import read_hdf\n",
    "from scipy.sparse.linalg import svds, eigs\n",
    "import gc\n",
    "from tqdm import tqdm\n",
    "from sklearn.ensemble import RandomForestClassifier\n",
    "from sklearn.metrics import f1_score"
   ]
  },
  {
   "cell_type": "code",
   "execution_count": 38,
   "metadata": {
    "colab": {},
    "colab_type": "code",
    "id": "XC4OJFKkHglU"
   },
   "outputs": [],
   "source": [
    "#reading\n",
    "from pandas import read_hdf\n",
    "df_final_train = read_hdf('storage_sample_stage4-2.h5', 'train_df',mode='r')\n",
    "df_final_test = read_hdf('storage_sample_stage4-2.h5', 'test_df',mode='r')"
   ]
  },
  {
   "cell_type": "code",
   "execution_count": 39,
   "metadata": {
    "colab": {},
    "colab_type": "code",
    "id": "5Gm-BHRkHglW",
    "outputId": "d2c2294c-113e-4fdb-d3e5-dc167dcf5fbc"
   },
   "outputs": [
    {
     "data": {
      "text/plain": [
       "Index(['source_node', 'destination_node', 'indicator_link',\n",
       "       'jaccard_followers', 'jaccard_followees', 'cosine_followers',\n",
       "       'cosine_followees', 'num_followers_s', 'num_followees_s',\n",
       "       'num_followees_d', 'inter_followers', 'inter_followees', 'adar_index',\n",
       "       'follows_back', 'same_comp', 'shortest_path', 'weight_in', 'weight_out',\n",
       "       'weight_f1', 'weight_f2', 'weight_f3', 'weight_f4', 'page_rank_s',\n",
       "       'page_rank_d', 'katz_s', 'katz_d', 'hubs_s', 'hubs_d', 'authorities_s',\n",
       "       'authorities_d', 'svd_u_s_1', 'svd_u_s_2', 'svd_u_s_3', 'svd_u_s_4',\n",
       "       'svd_u_s_5', 'svd_u_s_6', 'svd_u_d_1', 'svd_u_d_2', 'svd_u_d_3',\n",
       "       'svd_u_d_4', 'svd_u_d_5', 'svd_u_d_6', 'svd_v_s_1', 'svd_v_s_2',\n",
       "       'svd_v_s_3', 'svd_v_s_4', 'svd_v_s_5', 'svd_v_s_6', 'svd_v_d_1',\n",
       "       'svd_v_d_2', 'svd_v_d_3', 'svd_v_d_4', 'svd_v_d_5', 'svd_v_d_6'],\n",
       "      dtype='object')"
      ]
     },
     "execution_count": 39,
     "metadata": {},
     "output_type": "execute_result"
    }
   ],
   "source": [
    "df_final_train.columns"
   ]
  },
  {
   "cell_type": "code",
   "execution_count": 9,
   "metadata": {},
   "outputs": [],
   "source": [
    "train_graph=nx.read_edgelist('train_pos_after_eda.csv',delimiter=',',create_using=nx.DiGraph(),nodetype=int)\n",
    "\n",
    "\n",
    "def pref_followers(a,b):\n",
    "    try:\n",
    "        sim_ind=(len(set(train_graph.predecessors(a))))*(len(set(train_graph.predecessors(b))))\n",
    "        return sim_ind\n",
    "    except:\n",
    "        return 0\n",
    "\n",
    "df_final_train['pref_attach_followers']=df_final_train.apply(lambda row:pref_followers(row['source_node'],row['destination_node']),axis=1)\n",
    "df_final_test['pref_attach_followers']=df_final_test.apply(lambda row:pref_followers(row['source_node'],row['destination_node']),axis=1)\n",
    "\n",
    "\n",
    "\n",
    "  "
   ]
  },
  {
   "cell_type": "code",
   "execution_count": 36,
   "metadata": {},
   "outputs": [
    {
     "name": "stdout",
     "output_type": "stream",
     "text": [
      "   jaccard_followers  jaccard_followees  cosine_followers  cosine_followees  \\\n",
      "0                  0           0.000000          0.000000          0.000000   \n",
      "1                  0           0.187135          0.028382          0.343828   \n",
      "2                  0           0.369565          0.156957          0.566038   \n",
      "3                  0           0.000000          0.000000          0.000000   \n",
      "4                  0           0.000000          0.000000          0.000000   \n",
      "\n",
      "   num_followers_s  num_followees_s  num_followees_d  inter_followers  \\\n",
      "0                6               15                8                0   \n",
      "1               94               61              142               11   \n",
      "2               28               41               22               26   \n",
      "3               11                5                7                0   \n",
      "4                1               11                3                0   \n",
      "\n",
      "   inter_followees  adar_index  ...     svd_v_s_6     svd_v_d_1     svd_v_d_2  \\\n",
      "0                0    0.000000  ...  1.719702e-14 -1.355368e-12  4.675307e-13   \n",
      "1               32   16.362912  ...  2.251737e-10  1.245101e-12 -1.636948e-10   \n",
      "2               17   10.991826  ... -3.365389e-19 -1.238370e-18  1.438175e-19   \n",
      "3                0    0.000000  ...  4.498061e-13 -9.818087e-10  3.454672e-11   \n",
      "4                0    0.000000  ...  1.407670e-14  0.000000e+00  0.000000e+00   \n",
      "\n",
      "      svd_v_d_3     svd_v_d_4     svd_v_d_5     svd_v_d_6  \\\n",
      "0  1.128591e-06  6.616550e-14  9.771077e-13  4.159752e-14   \n",
      "1 -3.112650e-10  6.738902e-02  2.607801e-11  2.372904e-09   \n",
      "2 -1.852863e-19 -5.901864e-19  1.629341e-19 -2.572452e-19   \n",
      "3  5.213635e-08  9.595823e-13  3.047045e-10  1.246592e-13   \n",
      "4  0.000000e+00  0.000000e+00  0.000000e+00  0.000000e+00   \n",
      "\n",
      "   pref_attach_followers  SVS Dot Product U  SVS Dot Product V  \n",
      "0                     66       1.114958e-11       2.238775e-12  \n",
      "1                   1598       3.192812e-03       9.068719e-04  \n",
      "2                    980       1.787503e-35       4.533827e-36  \n",
      "3                     22       4.710376e-20       3.159173e-18  \n",
      "4                      5       7.773952e-14       1.222937e-25  \n",
      "\n",
      "[5 rows x 54 columns]\n"
     ]
    }
   ],
   "source": [
    "print(df_final_train.head())"
   ]
  },
  {
   "cell_type": "code",
   "execution_count": 12,
   "metadata": {},
   "outputs": [
    {
     "name": "stdout",
     "output_type": "stream",
     "text": [
      "   source_node  destination_node  indicator_link  jaccard_followers  \\\n",
      "0       273084           1505602               1                  0   \n",
      "1       832016           1543415               1                  0   \n",
      "2      1325247            760242               1                  0   \n",
      "3      1368400           1006992               1                  0   \n",
      "4       140165           1708748               1                  0   \n",
      "\n",
      "   jaccard_followees  cosine_followers  cosine_followees  num_followers_s  \\\n",
      "0           0.000000          0.000000          0.000000                6   \n",
      "1           0.187135          0.028382          0.343828               94   \n",
      "2           0.369565          0.156957          0.566038               28   \n",
      "3           0.000000          0.000000          0.000000               11   \n",
      "4           0.000000          0.000000          0.000000                1   \n",
      "\n",
      "   num_followees_s  num_followees_d  ...     svd_v_s_6     svd_v_d_1  \\\n",
      "0               15                8  ...  1.719702e-14 -1.355368e-12   \n",
      "1               61              142  ...  2.251737e-10  1.245101e-12   \n",
      "2               41               22  ... -3.365389e-19 -1.238370e-18   \n",
      "3                5                7  ...  4.498061e-13 -9.818087e-10   \n",
      "4               11                3  ...  1.407670e-14  0.000000e+00   \n",
      "\n",
      "      svd_v_d_2     svd_v_d_3     svd_v_d_4     svd_v_d_5     svd_v_d_6  \\\n",
      "0  4.675307e-13  1.128591e-06  6.616550e-14  9.771077e-13  4.159752e-14   \n",
      "1 -1.636948e-10 -3.112650e-10  6.738902e-02  2.607801e-11  2.372904e-09   \n",
      "2  1.438175e-19 -1.852863e-19 -5.901864e-19  1.629341e-19 -2.572452e-19   \n",
      "3  3.454672e-11  5.213635e-08  9.595823e-13  3.047045e-10  1.246592e-13   \n",
      "4  0.000000e+00  0.000000e+00  0.000000e+00  0.000000e+00  0.000000e+00   \n",
      "\n",
      "   pref_attach_followers  SVS Dot Product U  SVS Dot Product V  \n",
      "0                     66       1.114958e-11       2.238775e-12  \n",
      "1                   1598       3.192812e-03       9.068719e-04  \n",
      "2                    980       1.787503e-35       4.533827e-36  \n",
      "3                     22       4.710376e-20       3.159173e-18  \n",
      "4                      5       7.773952e-14       1.222937e-25  \n",
      "\n",
      "[5 rows x 57 columns]\n"
     ]
    }
   ],
   "source": [
    "svs1=np.array(df_final_train['svd_u_s_1'])\n",
    "svs2=np.array(df_final_train['svd_u_s_2'])\n",
    "svs3=np.array(df_final_train['svd_u_s_3'])\n",
    "svs4=np.array(df_final_train['svd_u_s_4'])\n",
    "svs5=np.array(df_final_train['svd_u_s_5'])\n",
    "svs6=np.array(df_final_train['svd_u_s_6'])\n",
    "svs7=np.array(df_final_train['svd_v_s_1'])\n",
    "svs8=np.array(df_final_train['svd_v_s_2'])\n",
    "svs9=np.array(df_final_train['svd_v_s_3'])\n",
    "svs10=np.array(df_final_train['svd_v_s_4'])\n",
    "svs11=np.array(df_final_train['svd_v_s_5'])\n",
    "svs12=np.array(df_final_train['svd_v_s_6'])\n",
    "svd1=np.array(df_final_train['svd_u_d_1'])\n",
    "svd2=np.array(df_final_train['svd_u_d_2'])\n",
    "svd3=np.array(df_final_train['svd_u_d_3'])\n",
    "svd4=np.array(df_final_train['svd_u_d_4'])\n",
    "svd5=np.array(df_final_train['svd_u_d_5'])\n",
    "svd6=np.array(df_final_train['svd_u_d_6'])\n",
    "svd7=np.array(df_final_train['svd_u_d_1'])\n",
    "svd8=np.array(df_final_train['svd_v_d_2'])\n",
    "svd9=np.array(df_final_train['svd_v_d_3'])\n",
    "svd10=np.array(df_final_train['svd_v_d_4'])\n",
    "svd11=np.array(df_final_train['svd_v_d_5'])\n",
    "svd12=np.array(df_final_train['svd_v_d_6'])\n",
    "svudotfinal=[]\n",
    "svddotfinal=[]\n",
    "for i in range(len(svs1)):\n",
    "    svs_udot=[]\n",
    "    svd_udot=[]\n",
    "    svs_vdot=[]\n",
    "    svd_vdot=[]\n",
    "    svs_udot.append(svs1[i])\n",
    "    svs_udot.append(svs2[i])\n",
    "    svs_udot.append(svs3[i])\n",
    "    svs_udot.append(svs4[i])\n",
    "    svs_udot.append(svs5[i])\n",
    "    svs_udot.append(svs6[i])\n",
    "    svs_vdot.append(svs7[i])\n",
    "    svs_vdot.append(svs8[i])\n",
    "    svs_vdot.append(svs9[i])\n",
    "    svs_vdot.append(svs10[i])\n",
    "    svs_vdot.append(svs11[i])\n",
    "    svs_vdot.append(svs12[i])\n",
    "    svd_udot.append(svd1[i])\n",
    "    svd_udot.append(svd2[i])\n",
    "    svd_udot.append(svd3[i])\n",
    "    svd_udot.append(svd4[i])\n",
    "    svd_udot.append(svd5[i])\n",
    "    svd_udot.append(svd6[i])\n",
    "    svd_vdot.append(svd7[i])\n",
    "    svd_vdot.append(svd8[i])\n",
    "    svd_vdot.append(svd9[i])\n",
    "    svd_vdot.append(svd10[i])\n",
    "    svd_vdot.append(svd11[i])\n",
    "    svd_vdot.append(svd12[i])\n",
    "    svudotfinal.append(np.dot(svs_udot,svd_udot))\n",
    "    svddotfinal.append(np.dot(svs_vdot,svd_vdot))\n",
    "df_final_train['SVS Dot Product U']=svudotfinal\n",
    "df_final_train['SVS Dot Product V']=svddotfinal\n",
    "print(df_final_train.head())"
   ]
  },
  {
   "cell_type": "code",
   "execution_count": 31,
   "metadata": {},
   "outputs": [
    {
     "name": "stdout",
     "output_type": "stream",
     "text": [
      "   jaccard_followers  jaccard_followees  cosine_followers  cosine_followees  \\\n",
      "0                  0                0.0          0.029161          0.000000   \n",
      "1                  0                0.0          0.000000          0.000000   \n",
      "2                  0                0.0          0.000000          0.000000   \n",
      "3                  0                0.0          0.000000          0.000000   \n",
      "4                  0                0.2          0.042767          0.347833   \n",
      "\n",
      "   num_followers_s  num_followees_s  num_followees_d  inter_followers  \\\n",
      "0               14                6                9                1   \n",
      "1               17                1               19                0   \n",
      "2               10               16                9                0   \n",
      "3               37               10               34                0   \n",
      "4               27               15               27                4   \n",
      "\n",
      "   inter_followees  adar_index  ...     svd_v_d_2     svd_v_d_3     svd_v_d_4  \\\n",
      "0                0    0.000000  ...  5.791910e-10  3.512364e-07  2.486658e-09   \n",
      "1                0    0.000000  ...  3.206809e-10  4.668696e-08  6.665777e-12   \n",
      "2                0    0.000000  ...  4.789463e-13  3.479824e-07  1.630549e-13   \n",
      "3                0    0.000000  ...  6.939194e-12  1.879861e-05  4.384816e-12   \n",
      "4                7    6.136433  ...  7.467370e-12  1.256880e-05  3.636983e-12   \n",
      "\n",
      "      svd_v_d_5     svd_v_d_6  pref_attach_followers  SVS Dot Product for U  \\\n",
      "0  2.771146e-09  1.727694e-12                     84           8.425267e-20   \n",
      "1  1.495979e-10  9.836670e-14                     34           1.352160e-17   \n",
      "2  3.954708e-13  3.875785e-14                    150           3.671980e-13   \n",
      "3  1.239414e-11  6.483485e-13                    407           1.634044e-10   \n",
      "4  3.948463e-12  2.415863e-13                    324           1.246700e-11   \n",
      "\n",
      "   SVS Dot Product for V  SVS Dot Product U  SVS Dot Product V  \n",
      "0           2.074786e-17       8.425267e-20       2.074786e-17  \n",
      "1           1.188377e-17       1.352160e-17       1.188377e-17  \n",
      "2           3.904885e-12       3.671980e-13       3.904885e-12  \n",
      "3           9.819784e-11       1.634044e-10       9.819784e-11  \n",
      "4           1.300892e-11       1.246700e-11       1.300892e-11  \n",
      "\n",
      "[5 rows x 56 columns]\n"
     ]
    }
   ],
   "source": [
    "svs1=np.array(df_final_test['svd_u_s_1'])\n",
    "svs2=np.array(df_final_test['svd_u_s_2'])\n",
    "svs3=np.array(df_final_test['svd_u_s_3'])\n",
    "svs4=np.array(df_final_test['svd_u_s_4'])\n",
    "svs5=np.array(df_final_test['svd_u_s_5'])\n",
    "svs6=np.array(df_final_test['svd_u_s_6'])\n",
    "svs7=np.array(df_final_test['svd_v_s_1'])\n",
    "svs8=np.array(df_final_test['svd_v_s_2'])\n",
    "svs9=np.array(df_final_test['svd_v_s_3'])\n",
    "svs10=np.array(df_final_test['svd_v_s_4'])\n",
    "svs11=np.array(df_final_test['svd_v_s_5'])\n",
    "svs12=np.array(df_final_test['svd_v_s_6'])\n",
    "svd1=np.array(df_final_test['svd_u_d_1'])\n",
    "svd2=np.array(df_final_test['svd_u_d_2'])\n",
    "svd3=np.array(df_final_test['svd_u_d_3'])\n",
    "svd4=np.array(df_final_test['svd_u_d_4'])\n",
    "svd5=np.array(df_final_test['svd_u_d_5'])\n",
    "svd6=np.array(df_final_test['svd_u_d_6'])\n",
    "svd7=np.array(df_final_test['svd_u_d_1'])\n",
    "svd8=np.array(df_final_test['svd_v_d_2'])\n",
    "svd9=np.array(df_final_test['svd_v_d_3'])\n",
    "svd10=np.array(df_final_test['svd_v_d_4'])\n",
    "svd11=np.array(df_final_test['svd_v_d_5'])\n",
    "svd12=np.array(df_final_test['svd_v_d_6'])\n",
    "svudotfinal=[]\n",
    "svddotfinal=[]\n",
    "for i in range(len(svs1)):\n",
    "    svs_udot=[]\n",
    "    svs_vdot=[]\n",
    "    svd_udot=[]\n",
    "    svd_vdot=[]\n",
    "    svs_udot.append(svs1[i])\n",
    "    svs_udot.append(svs2[i])\n",
    "    svs_udot.append(svs3[i])\n",
    "    svs_udot.append(svs4[i])\n",
    "    svs_udot.append(svs5[i])\n",
    "    svs_udot.append(svs6[i])\n",
    "    svs_vdot.append(svs7[i])\n",
    "    svs_vdot.append(svs8[i])\n",
    "    svs_vdot.append(svs9[i])\n",
    "    svs_vdot.append(svs10[i])\n",
    "    svs_vdot.append(svs11[i])\n",
    "    svs_vdot.append(svs12[i])\n",
    "    svd_udot.append(svd1[i])\n",
    "    svd_udot.append(svd2[i])\n",
    "    svd_udot.append(svd3[i])\n",
    "    svd_udot.append(svd4[i])\n",
    "    svd_udot.append(svd5[i])\n",
    "    svd_udot.append(svd6[i])\n",
    "    svd_vdot.append(svd7[i])\n",
    "    svd_vdot.append(svd8[i])\n",
    "    svd_vdot.append(svd9[i])\n",
    "    svd_vdot.append(svd10[i])\n",
    "    svd_vdot.append(svd11[i])\n",
    "    svd_vdot.append(svd12[i])\n",
    "    svudotfinal.append(np.dot(svs_udot,svd_udot))\n",
    "    svddotfinal.append(np.dot(svs_vdot,svd_vdot))\n",
    "df_final_test['SVS Dot Product U']=svudotfinal\n",
    "df_final_test['SVS Dot Product V']=svddotfinal\n",
    "print(df_final_test.head())"
   ]
  },
  {
   "cell_type": "code",
   "execution_count": null,
   "metadata": {},
   "outputs": [],
   "source": [
    "\n",
    "\n"
   ]
  },
  {
   "cell_type": "code",
   "execution_count": 40,
   "metadata": {
    "colab": {},
    "colab_type": "code",
    "id": "XRW7VZ4AHglc"
   },
   "outputs": [],
   "source": [
    "y_train = df_final_train.indicator_link\n",
    "y_test = df_final_test.indicator_link"
   ]
  },
  {
   "cell_type": "code",
   "execution_count": 41,
   "metadata": {
    "colab": {},
    "colab_type": "code",
    "id": "4lj9M_qtHglf"
   },
   "outputs": [],
   "source": [
    "df_final_train.drop(['source_node', 'destination_node','indicator_link'],axis=1,inplace=True)\n",
    "df_final_test.drop(['source_node', 'destination_node','indicator_link'],axis=1,inplace=True)"
   ]
  },
  {
   "cell_type": "code",
   "execution_count": 18,
   "metadata": {
    "colab": {},
    "colab_type": "code",
    "id": "lIEc91uVHgli",
    "outputId": "31f04b72-ebe5-4b13-ccca-a5ae3bc4f09c"
   },
   "outputs": [
    {
     "name": "stdout",
     "output_type": "stream",
     "text": [
      "Estimators =  10 Train Score 0.916031808979149 test Score 0.8984278994872664\n",
      "Estimators =  50 Train Score 0.9181232750689972 test Score 0.9133901221098569\n",
      "Estimators =  100 Train Score 0.9190342245877469 test Score 0.9140351245305189\n",
      "Estimators =  250 Train Score 0.9209657880446134 test Score 0.9158243509625468\n",
      "Estimators =  450 Train Score 0.9214206576499361 test Score 0.9165564582152528\n"
     ]
    },
    {
     "data": {
      "text/plain": [
       "Text(0.5,1,'Estimators vs score at depth of 5')"
      ]
     },
     "execution_count": 18,
     "metadata": {},
     "output_type": "execute_result"
    },
    {
     "data": {
      "image/png": "[encoded data removed]",
      "text/plain": [
       "<Figure size 432x288 with 1 Axes>"
      ]
     },
     "metadata": {},
     "output_type": "display_data"
    }
   ],
   "source": [
    "estimators = [10,50,100,250,450]\n",
    "train_scores = []\n",
    "test_scores = []\n",
    "for i in estimators:\n",
    "    clf = RandomForestClassifier(bootstrap=True, class_weight=None, criterion='gini',\n",
    "            max_depth=5, max_features='auto', max_leaf_nodes=None,\n",
    "            min_impurity_decrease=0.0, min_impurity_split=None,\n",
    "            min_samples_leaf=52, min_samples_split=120,\n",
    "            min_weight_fraction_leaf=0.0, n_estimators=i, n_jobs=-1,random_state=25,verbose=0,warm_start=False)\n",
    "    clf.fit(df_final_train,y_train)\n",
    "    train_sc = f1_score(y_train,clf.predict(df_final_train))\n",
    "    test_sc = f1_score(y_test,clf.predict(df_final_test))\n",
    "    test_scores.append(test_sc)\n",
    "    train_scores.append(train_sc)\n",
    "    print('Estimators = ',i,'Train Score',train_sc,'test Score',test_sc)\n",
    "plt.plot(estimators,train_scores,label='Train Score')\n",
    "plt.plot(estimators,test_scores,label='Test Score')\n",
    "plt.xlabel('Estimators')\n",
    "plt.ylabel('Score')\n",
    "plt.title('Estimators vs score at depth of 5')"
   ]
  },
  {
   "cell_type": "code",
   "execution_count": 19,
   "metadata": {
    "colab": {},
    "colab_type": "code",
    "id": "nZxhrTdQHglm",
    "outputId": "53382b8e-148d-4c22-8066-d9807fb27012"
   },
   "outputs": [
    {
     "name": "stdout",
     "output_type": "stream",
     "text": [
      "depth =  3 Train Score 0.8785540082561737 test Score 0.8593592195457377\n",
      "depth =  9 Train Score 0.9563841300308333 test Score 0.9230996309963099\n",
      "depth =  11 Train Score 0.9592785970911829 test Score 0.9244532384701202\n",
      "depth =  15 Train Score 0.9620183598282074 test Score 0.9248459785635919\n",
      "depth =  20 Train Score 0.9621656815569143 test Score 0.9252837193604184\n",
      "depth =  35 Train Score 0.9620175929221538 test Score 0.925071681565188\n",
      "depth =  50 Train Score 0.9620175929221538 test Score 0.925071681565188\n",
      "depth =  70 Train Score 0.9620175929221538 test Score 0.925071681565188\n",
      "depth =  130 Train Score 0.9620175929221538 test Score 0.925071681565188\n"
     ]
    },
    {
     "data": {
      "image/png": "[encoded data removed]",
      "text/plain": [
       "<Figure size 432x288 with 1 Axes>"
      ]
     },
     "metadata": {},
     "output_type": "display_data"
    }
   ],
   "source": [
    "depths = [3,9,11,15,20,35,50,70,130]\n",
    "train_scores = []\n",
    "test_scores = []\n",
    "for i in depths:\n",
    "    clf = RandomForestClassifier(bootstrap=True, class_weight=None, criterion='gini',\n",
    "            max_depth=i, max_features='auto', max_leaf_nodes=None,\n",
    "            min_impurity_decrease=0.0, min_impurity_split=None,\n",
    "            min_samples_leaf=52, min_samples_split=120,\n",
    "            min_weight_fraction_leaf=0.0, n_estimators=115, n_jobs=-1,random_state=25,verbose=0,warm_start=False)\n",
    "    clf.fit(df_final_train,y_train)\n",
    "    train_sc = f1_score(y_train,clf.predict(df_final_train))\n",
    "    test_sc = f1_score(y_test,clf.predict(df_final_test))\n",
    "    test_scores.append(test_sc)\n",
    "    train_scores.append(train_sc)\n",
    "    print('depth = ',i,'Train Score',train_sc,'test Score',test_sc)\n",
    "plt.plot(depths,train_scores,label='Train Score')\n",
    "plt.plot(depths,test_scores,label='Test Score')\n",
    "plt.xlabel('Depth')\n",
    "plt.ylabel('Score')\n",
    "plt.title('Depth vs score at depth of 5 at estimators = 115')\n",
    "plt.show()"
   ]
  },
  {
   "cell_type": "code",
   "execution_count": 20,
   "metadata": {
    "colab": {},
    "colab_type": "code",
    "id": "MrG1Lfl3Hglq",
    "outputId": "7b6e3c97-8d66-455d-cd79-213f824719cc"
   },
   "outputs": [
    {
     "name": "stdout",
     "output_type": "stream",
     "text": [
      "mean test scores [0.96187661 0.96145871 0.95975427 0.96117622 0.96312084]\n",
      "mean train scores [0.96275257 0.96229269 0.96033761 0.9618115  0.96401075]\n"
     ]
    }
   ],
   "source": [
    "from sklearn.metrics import f1_score\n",
    "from sklearn.ensemble import RandomForestClassifier\n",
    "from sklearn.metrics import f1_score\n",
    "from sklearn.model_selection import RandomizedSearchCV\n",
    "from scipy.stats import randint as sp_randint\n",
    "from scipy.stats import uniform\n",
    "\n",
    "param_dist = {\"n_estimators\":sp_randint(105,125),\n",
    "              \"max_depth\": sp_randint(10,15),\n",
    "              \"min_samples_split\": sp_randint(110,190),\n",
    "              \"min_samples_leaf\": sp_randint(25,65)}\n",
    "\n",
    "clf = RandomForestClassifier(random_state=25,n_jobs=-1)\n",
    "\n",
    "rf_random = RandomizedSearchCV(clf, param_distributions=param_dist,\n",
    "                                   n_iter=5,cv=10,scoring='f1',random_state=25,return_train_score=True)\n",
    "\n",
    "rf_random.fit(df_final_train,y_train)\n",
    "print('mean test scores',rf_random.cv_results_['mean_test_score'])\n",
    "print('mean train scores',rf_random.cv_results_['mean_train_score'])"
   ]
  },
  {
   "cell_type": "code",
   "execution_count": 21,
   "metadata": {
    "colab": {},
    "colab_type": "code",
    "id": "hme3j_diHglu",
    "outputId": "581ccc02-7770-4a94-d003-257af4e81570"
   },
   "outputs": [
    {
     "name": "stdout",
     "output_type": "stream",
     "text": [
      "RandomForestClassifier(bootstrap=True, class_weight=None, criterion='gini',\n",
      "                       max_depth=14, max_features='auto', max_leaf_nodes=None,\n",
      "                       min_impurity_decrease=0.0, min_impurity_split=None,\n",
      "                       min_samples_leaf=28, min_samples_split=111,\n",
      "                       min_weight_fraction_leaf=0.0, n_estimators=121,\n",
      "                       n_jobs=-1, oob_score=False, random_state=25, verbose=0,\n",
      "                       warm_start=False)\n"
     ]
    }
   ],
   "source": [
    "print(rf_random.best_estimator_)"
   ]
  },
  {
   "cell_type": "code",
   "execution_count": 22,
   "metadata": {
    "colab": {},
    "colab_type": "code",
    "id": "qu4KIEweHglx"
   },
   "outputs": [],
   "source": [
    "clf = RandomForestClassifier(bootstrap=True, class_weight=None, criterion='gini',\n",
    "            max_depth=14, max_features='auto', max_leaf_nodes=None,\n",
    "            min_impurity_decrease=0.0, min_impurity_split=None,\n",
    "            min_samples_leaf=28, min_samples_split=111,\n",
    "            min_weight_fraction_leaf=0.0, n_estimators=121, n_jobs=-1,\n",
    "            oob_score=False, random_state=25, verbose=0, warm_start=False)"
   ]
  },
  {
   "cell_type": "code",
   "execution_count": 23,
   "metadata": {
    "colab": {},
    "colab_type": "code",
    "id": "Dax83GfLHgl1"
   },
   "outputs": [],
   "source": [
    "clf.fit(df_final_train,y_train)\n",
    "y_train_pred = clf.predict(df_final_train)\n",
    "y_test_pred = clf.predict(df_final_test)"
   ]
  },
  {
   "cell_type": "code",
   "execution_count": 24,
   "metadata": {
    "colab": {},
    "colab_type": "code",
    "id": "PTtAp1iTHgl4",
    "outputId": "e2e3d725-3c4d-4374-d303-8f294b570977"
   },
   "outputs": [
    {
     "name": "stdout",
     "output_type": "stream",
     "text": [
      "Train f1 score 0.9643208786300841\n",
      "Test f1 score 0.9266136162687888\n"
     ]
    }
   ],
   "source": [
    "from sklearn.metrics import f1_score\n",
    "print('Train f1 score',f1_score(y_train,y_train_pred))\n",
    "print('Test f1 score',f1_score(y_test,y_test_pred))"
   ]
  },
  {
   "cell_type": "code",
   "execution_count": 25,
   "metadata": {
    "colab": {},
    "colab_type": "code",
    "id": "5XfUkZYQHgl7"
   },
   "outputs": [],
   "source": [
    "from sklearn.metrics import confusion_matrix\n",
    "def plot_confusion_matrix(test_y, predict_y):\n",
    "    C = confusion_matrix(test_y, predict_y)\n",
    "    \n",
    "    A =(((C.T)/(C.sum(axis=1))).T)\n",
    "    \n",
    "    B =(C/C.sum(axis=0))\n",
    "    plt.figure(figsize=(20,4))\n",
    "    \n",
    "    labels = [0,1]\n",
    "    # representing A in heatmap format\n",
    "    cmap=sns.light_palette(\"blue\")\n",
    "    plt.subplot(1, 3, 1)\n",
    "    sns.heatmap(C, annot=True, cmap=cmap, fmt=\".3f\", xticklabels=labels, yticklabels=labels)\n",
    "    plt.xlabel('Predicted Class')\n",
    "    plt.ylabel('Original Class')\n",
    "    plt.title(\"Confusion matrix\")\n",
    "    \n",
    "    plt.subplot(1, 3, 2)\n",
    "    sns.heatmap(B, annot=True, cmap=cmap, fmt=\".3f\", xticklabels=labels, yticklabels=labels)\n",
    "    plt.xlabel('Predicted Class')\n",
    "    plt.ylabel('Original Class')\n",
    "    plt.title(\"Precision matrix\")\n",
    "    \n",
    "    plt.subplot(1, 3, 3)\n",
    "    # representing B in heatmap format\n",
    "    sns.heatmap(A, annot=True, cmap=cmap, fmt=\".3f\", xticklabels=labels, yticklabels=labels)\n",
    "    plt.xlabel('Predicted Class')\n",
    "    plt.ylabel('Original Class')\n",
    "    plt.title(\"Recall matrix\")\n",
    "    \n",
    "    plt.show()"
   ]
  },
  {
   "cell_type": "code",
   "execution_count": 26,
   "metadata": {
    "colab": {},
    "colab_type": "code",
    "id": "s6t11dhTHgl-",
    "outputId": "189de3be-1c99-4653-f56f-12b18b0f4db7"
   },
   "outputs": [
    {
     "name": "stdout",
     "output_type": "stream",
     "text": [
      "Train confusion_matrix\n"
     ]
    },
    {
     "data": {
      "image/png": "[encoded data removed]",
      "text/plain": [
       "<Figure size 1440x288 with 6 Axes>"
      ]
     },
     "metadata": {},
     "output_type": "display_data"
    },
    {
     "name": "stdout",
     "output_type": "stream",
     "text": [
      "Test confusion_matrix\n"
     ]
    },
    {
     "data": {
      "image/png": "[encoded data removed]",
      "text/plain": [
       "<Figure size 1440x288 with 6 Axes>"
      ]
     },
     "metadata": {},
     "output_type": "display_data"
    }
   ],
   "source": [
    "print('Train confusion_matrix')\n",
    "plot_confusion_matrix(y_train,y_train_pred)\n",
    "print('Test confusion_matrix')\n",
    "plot_confusion_matrix(y_test,y_test_pred)"
   ]
  },
  {
   "cell_type": "code",
   "execution_count": 27,
   "metadata": {
    "colab": {},
    "colab_type": "code",
    "id": "61TF-VLeHgmD",
    "outputId": "795f1b39-61c7-470f-e2d0-1fe6dc7ac5fd"
   },
   "outputs": [
    {
     "data": {
      "image/png": "[encoded data removed]",
      "text/plain": [
       "<Figure size 432x288 with 1 Axes>"
      ]
     },
     "metadata": {},
     "output_type": "display_data"
    }
   ],
   "source": [
    "from sklearn.metrics import roc_curve, auc\n",
    "fpr,tpr,ths = roc_curve(y_test,y_test_pred)\n",
    "auc_sc = auc(fpr, tpr)\n",
    "plt.plot(fpr, tpr, color='navy',label='ROC curve (area = %0.2f)' % auc_sc)\n",
    "plt.xlabel('False Positive Rate')\n",
    "plt.ylabel('True Positive Rate')\n",
    "plt.title('Receiver operating characteristic with test data')\n",
    "plt.legend()\n",
    "plt.show()"
   ]
  },
  {
   "cell_type": "code",
   "execution_count": 28,
   "metadata": {
    "colab": {},
    "colab_type": "code",
    "id": "HEZ7uvN6HgmK",
    "outputId": "6f762256-54fc-4e2f-865b-22342033eb2c",
    "scrolled": false
   },
   "outputs": [
    {
     "data": {
      "image/png": "[encoded data removed]",
      "text/plain": [
       "<Figure size 720x864 with 1 Axes>"
      ]
     },
     "metadata": {},
     "output_type": "display_data"
    }
   ],
   "source": [
    "features = df_final_train.columns\n",
    "importances = clf.feature_importances_\n",
    "indices = (np.argsort(importances))[-25:]\n",
    "plt.figure(figsize=(10,12))\n",
    "plt.title('Feature Importances')\n",
    "plt.barh(range(len(indices)), importances[indices], color='r', align='center')\n",
    "plt.yticks(range(len(indices)), [features[i] for i in indices])\n",
    "plt.xlabel('Relative Importance')\n",
    "plt.show()"
   ]
  },
  {
   "cell_type": "markdown",
   "metadata": {
    "colab_type": "text",
    "id": "xdHW32hcHgmN"
   },
   "source": []
  },
  {
   "cell_type": "code",
   "execution_count": 29,
   "metadata": {},
   "outputs": [
    {
     "name": "stdout",
     "output_type": "stream",
     "text": [
      "XGBClassifier(base_score=0.5, booster='gbtree', colsample_bylevel=1,\n",
      "              colsample_bynode=1, colsample_bytree=1, gamma=0,\n",
      "              learning_rate=0.1, max_delta_step=0, max_depth=50,\n",
      "              min_child_weight=1, missing=None, n_estimators=50, n_jobs=1,\n",
      "              nthread=None, objective='binary:logistic', random_state=0,\n",
      "              reg_alpha=0, reg_lambda=1, scale_pos_weight=1, seed=None,\n",
      "              silent=None, subsample=1, verbosity=1)\n"
     ]
    }
   ],
   "source": [
    "import xgboost as xgb\n",
    "from sklearn.model_selection import RandomizedSearchCV\n",
    "\n",
    "tuned_parameters={'n_estimators':[1,5,10,50],'max_depth':[1,5,10,50]}\n",
    "model=RandomizedSearchCV(xgb.XGBClassifier(),tuned_parameters,scoring='neg_log_loss',cv=3,return_train_score=True)\n",
    "model.fit(df_final_train,y_train)\n",
    "print(model.best_estimator_)"
   ]
  },
  {
   "cell_type": "code",
   "execution_count": 42,
   "metadata": {},
   "outputs": [
    {
     "name": "stdout",
     "output_type": "stream",
     "text": [
      "[0]\ttrain-auc:0.998714\tvalid-auc:0.956642\n",
      "Multiple eval metrics have been passed: 'valid-auc' will be used for early stopping.\n",
      "\n",
      "Will train until valid-auc hasn't improved in 20 rounds.\n",
      "[10]\ttrain-auc:0.999667\tvalid-auc:0.956789\n",
      "[20]\ttrain-auc:0.999771\tvalid-auc:0.956746\n",
      "Stopping. Best iteration:\n",
      "[6]\ttrain-auc:0.999474\tvalid-auc:0.956864\n",
      "\n",
      "The test log loss is: 0.4043140142481354\n"
     ]
    }
   ],
   "source": [
    "from sklearn.metrics import log_loss\n",
    "params = {}\n",
    "params['objective'] = 'binary:logistic'\n",
    "params['eval_metric'] = 'auc'\n",
    "params['eta'] = 0.02\n",
    "params['max_depth'] = 50\n",
    "params['n_estimators']=50\n",
    "d_train = xgb.DMatrix(df_final_train, label=y_train)\n",
    "d_test = xgb.DMatrix(df_final_test, label=y_test)\n",
    "\n",
    "watchlist = [(d_train, 'train'), (d_test, 'valid')]\n",
    "\n",
    "bst = xgb.train(params, d_train, 400, watchlist, early_stopping_rounds=20, verbose_eval=10)\n",
    "\n",
    "xgdmat = xgb.DMatrix(df_final_train,y_train)\n",
    "predict_y = bst.predict(d_test)\n",
    "print(\"The test log loss is:\",log_loss(y_test, predict_y, labels=clf.classes_, eps=1e-15))"
   ]
  },
  {
   "cell_type": "code",
   "execution_count": null,
   "metadata": {},
   "outputs": [],
   "source": [
    "\n"
   ]
  },
  {
   "cell_type": "code",
   "execution_count": 43,
   "metadata": {},
   "outputs": [
    {
     "name": "stderr",
     "output_type": "stream",
     "text": [
      "Exception ignored in: <bound method Booster.__del__ of <xgboost.core.Booster object at 0x1a4289d7f0>>\n",
      "Traceback (most recent call last):\n",
      "  File \"/anaconda3/lib/python3.6/site-packages/xgboost/core.py\", line 957, in __del__\n",
      "    if self.handle is not None:\n",
      "AttributeError: 'Booster' object has no attribute 'handle'\n"
     ]
    },
    {
     "data": {
      "image/png": "[encoded data removed]",
      "text/plain": [
       "<Figure size 432x288 with 1 Axes>"
      ]
     },
     "metadata": {},
     "output_type": "display_data"
    }
   ],
   "source": [
    "from sklearn.metrics import roc_curve, auc\n",
    "fpr,tpr,ths = roc_curve(y_test,predict_y)\n",
    "auc_sc = auc(fpr, tpr)\n",
    "plt.plot(fpr, tpr, color='navy',label='ROC curve (area = %0.2f)' % auc_sc)\n",
    "plt.xlabel('False Positive Rate')\n",
    "plt.ylabel('True Positive Rate')\n",
    "plt.title('Receiver operating characteristic with test data')\n",
    "plt.legend()\n",
    "plt.show()"
   ]
  },
  {
   "cell_type": "code",
   "execution_count": null,
   "metadata": {},
   "outputs": [],
   "source": []
  }
 ],
 "metadata": {
  "colab": {
   "collapsed_sections": [],
   "name": "FB_Models.ipynb",
   "provenance": [],
   "version": "0.3.2"
  },
  "kernelspec": {
   "display_name": "Python 3",
   "language": "python",
   "name": "python3"
  },
  "language_info": {
   "codemirror_mode": {
    "name": "ipython",
    "version": 3
   },
   "file_extension": ".py",
   "mimetype": "text/x-python",
   "name": "python",
   "nbconvert_exporter": "python",
   "pygments_lexer": "ipython3",
   "version": "3.6.5"
  }
 },
 "nbformat": 4,
 "nbformat_minor": 1
}
